{
 "cells": [
  {
   "cell_type": "code",
   "execution_count": 2,
   "id": "55e29b73-5d13-4aff-b5c3-af4c907946f4",
   "metadata": {},
   "outputs": [
    {
     "name": "stdout",
     "output_type": "stream",
     "text": [
      "Collecting torch\n",
      "  Downloading torch-2.7.0-cp39-none-macosx_11_0_arm64.whl (68.6 MB)\n",
      "\u001b[K     |████████████████████████████████| 68.6 MB 6.9 MB/s eta 0:00:011\n",
      "\u001b[?25hCollecting torchvision\n",
      "  Downloading torchvision-0.22.0-cp39-cp39-macosx_11_0_arm64.whl (1.9 MB)\n",
      "\u001b[K     |████████████████████████████████| 1.9 MB 12.7 MB/s eta 0:00:01\n",
      "\u001b[?25hCollecting sympy>=1.13.3\n",
      "  Downloading sympy-1.14.0-py3-none-any.whl (6.3 MB)\n",
      "\u001b[K     |████████████████████████████████| 6.3 MB 12.9 MB/s eta 0:00:01\n",
      "\u001b[?25hCollecting networkx\n",
      "  Downloading networkx-3.2.1-py3-none-any.whl (1.6 MB)\n",
      "\u001b[K     |████████████████████████████████| 1.6 MB 11.5 MB/s eta 0:00:01\n",
      "\u001b[?25hCollecting filelock\n",
      "  Downloading filelock-3.18.0-py3-none-any.whl (16 kB)\n",
      "Requirement already satisfied: typing-extensions>=4.10.0 in ./venv/lib/python3.9/site-packages (from torch) (4.13.2)\n",
      "Collecting fsspec\n",
      "  Downloading fsspec-2025.3.2-py3-none-any.whl (194 kB)\n",
      "\u001b[K     |████████████████████████████████| 194 kB 15.5 MB/s eta 0:00:01\n",
      "\u001b[?25hRequirement already satisfied: jinja2 in ./venv/lib/python3.9/site-packages (from torch) (3.1.6)\n",
      "Collecting pillow!=8.3.*,>=5.3.0\n",
      "  Downloading pillow-11.2.1-cp39-cp39-macosx_11_0_arm64.whl (3.0 MB)\n",
      "\u001b[K     |████████████████████████████████| 3.0 MB 13.7 MB/s eta 0:00:01\n",
      "\u001b[?25hCollecting numpy\n",
      "  Using cached numpy-2.0.2-cp39-cp39-macosx_14_0_arm64.whl (5.3 MB)\n",
      "Collecting mpmath<1.4,>=1.1.0\n",
      "  Downloading mpmath-1.3.0-py3-none-any.whl (536 kB)\n",
      "\u001b[K     |████████████████████████████████| 536 kB 11.5 MB/s eta 0:00:01\n",
      "\u001b[?25hRequirement already satisfied: MarkupSafe>=2.0 in ./venv/lib/python3.9/site-packages (from jinja2->torch) (3.0.2)\n",
      "Installing collected packages: mpmath, sympy, networkx, fsspec, filelock, torch, pillow, numpy, torchvision\n",
      "Successfully installed filelock-3.18.0 fsspec-2025.3.2 mpmath-1.3.0 networkx-3.2.1 numpy-2.0.2 pillow-11.2.1 sympy-1.14.0 torch-2.7.0 torchvision-0.22.0\n",
      "\u001b[33mWARNING: You are using pip version 21.2.4; however, version 25.1.1 is available.\n",
      "You should consider upgrading via the '/Users/paidamoyo/Documents/WRN-CIFAR10-Reproduction-/venv/bin/python3 -m pip install --upgrade pip' command.\u001b[0m\n"
     ]
    }
   ],
   "source": [
    "!pip install torch torchvision\n"
   ]
  },
  {
   "cell_type": "code",
   "execution_count": 1,
   "id": "7cb77ba6-05e1-40a4-8bce-97c7b32e7408",
   "metadata": {},
   "outputs": [],
   "source": [
    "import torch\n",
    "import torch.nn as nn\n",
    "import torch.nn.functional as F\n"
   ]
  },
  {
   "cell_type": "markdown",
   "id": "5df6387a-1848-4eb1-97ef-d296c66c5dc6",
   "metadata": {},
   "source": [
    "## Defining the Basic Block (Residual Block)"
   ]
  },
  {
   "cell_type": "code",
   "execution_count": 2,
   "id": "388a9d97-8021-4175-8e30-7d9ddbb433fd",
   "metadata": {},
   "outputs": [],
   "source": [
    "class BasicBlock(nn.Module):\n",
    "    def __init__(self, in_planes, out_planes, stride, drop_rate=0.0):\n",
    "        super(BasicBlock, self).__init__()\n",
    "        self.bn1 = nn.BatchNorm2d(in_planes)\n",
    "        self.relu1 = nn.ReLU(inplace=True)\n",
    "        self.conv1 = nn.Conv2d(in_planes, out_planes, kernel_size=3, stride=stride,\n",
    "                               padding=1, bias=False)\n",
    "        self.bn2 = nn.BatchNorm2d(out_planes)\n",
    "        self.relu2 = nn.ReLU(inplace=True)\n",
    "        self.conv2 = nn.Conv2d(out_planes, out_planes, kernel_size=3, stride=1,\n",
    "                               padding=1, bias=False)\n",
    "        self.drop_rate = drop_rate\n",
    "        self.equalInOut = (in_planes == out_planes)\n",
    "        self.shortcut = (not self.equalInOut) and nn.Conv2d(in_planes, out_planes,\n",
    "                                                            kernel_size=1, stride=stride,\n",
    "                                                            padding=0, bias=False) or None\n",
    "\n",
    "    def forward(self, x):\n",
    "        if not self.equalInOut:\n",
    "            x = self.relu1(self.bn1(x))\n",
    "        else:\n",
    "            out = self.relu1(self.bn1(x))\n",
    "        out = self.relu2(self.bn2(self.conv1(out if self.equalInOut else x)))\n",
    "        if self.drop_rate > 0:\n",
    "            out = F.dropout(out, p=self.drop_rate, training=self.training)\n",
    "        out = self.conv2(out)\n",
    "        return out + (x if self.equalInOut else self.shortcut(x))\n"
   ]
  },
  {
   "cell_type": "markdown",
   "id": "5a5c19fc-8dd4-4112-8705-2a9f1a40f6c4",
   "metadata": {},
   "source": [
    "## Defining Network Block (a group of residual blocks)"
   ]
  },
  {
   "cell_type": "code",
   "execution_count": 3,
   "id": "0bf6284b-bce6-4ef6-a5a0-f7b245a560d6",
   "metadata": {},
   "outputs": [],
   "source": [
    "class NetworkBlock(nn.Module):\n",
    "    def __init__(self, nb_layers, in_planes, out_planes, block, stride, drop_rate):\n",
    "        super(NetworkBlock, self).__init__()\n",
    "        layers = []\n",
    "        for i in range(nb_layers):\n",
    "            layers.append(block(i == 0 and in_planes or out_planes,\n",
    "                                out_planes,\n",
    "                                i == 0 and stride or 1,\n",
    "                                drop_rate))\n",
    "        self.layer = nn.Sequential(*layers)\n",
    "\n",
    "    def forward(self, x):\n",
    "        return self.layer(x)\n"
   ]
  },
  {
   "cell_type": "markdown",
   "id": "42a8f3c9-dd19-4ce3-a477-ef1122e2fdd1",
   "metadata": {},
   "source": [
    "## Defining the WideResNet"
   ]
  },
  {
   "cell_type": "code",
   "execution_count": 4,
   "id": "cce457bc-7a26-4bed-9663-ded82b95c223",
   "metadata": {},
   "outputs": [],
   "source": [
    "class WideResNet(nn.Module):\n",
    "    def __init__(self, depth, widen_factor=10, num_classes=10, drop_rate=0.0):\n",
    "        super(WideResNet, self).__init__()\n",
    "        nChannels = [16, 16*widen_factor, 32*widen_factor, 64*widen_factor]\n",
    "        assert ((depth - 4) % 6 == 0)\n",
    "        n = (depth - 4) // 6\n",
    "\n",
    "        block = BasicBlock\n",
    "        self.conv1 = nn.Conv2d(3, nChannels[0], kernel_size=3, stride=1,\n",
    "                               padding=1, bias=False)\n",
    "        self.block1 = NetworkBlock(n, nChannels[0], nChannels[1], block, 1, drop_rate)\n",
    "        self.block2 = NetworkBlock(n, nChannels[1], nChannels[2], block, 2, drop_rate)\n",
    "        self.block3 = NetworkBlock(n, nChannels[2], nChannels[3], block, 2, drop_rate)\n",
    "        self.bn1 = nn.BatchNorm2d(nChannels[3])\n",
    "        self.relu = nn.ReLU(inplace=True)\n",
    "        self.fc = nn.Linear(nChannels[3], num_classes)\n",
    "\n",
    "        self._initialize_weights()\n",
    "\n",
    "    def _initialize_weights(self):\n",
    "        for m in self.modules():\n",
    "            if isinstance(m, nn.Conv2d):\n",
    "                nn.init.kaiming_normal_(m.weight, nonlinearity='relu')\n",
    "            elif isinstance(m, nn.BatchNorm2d):\n",
    "                nn.init.constant_(m.weight, 1)\n",
    "                nn.init.constant_(m.bias, 0)\n",
    "            elif isinstance(m, nn.Linear):\n",
    "                nn.init.xavier_normal_(m.weight)\n",
    "                nn.init.constant_(m.bias, 0)\n",
    "\n",
    "    def forward(self, x):\n",
    "        out = self.conv1(x)\n",
    "        out = self.block1(out)\n",
    "        out = self.block2(out)\n",
    "        out = self.block3(out)\n",
    "        out = self.relu(self.bn1(out))\n",
    "        out = F.avg_pool2d(out, out.size()[2:])  # Global average pooling\n",
    "        out = out.view(out.size(0), -1)\n",
    "        return self.fc(out)\n"
   ]
  },
  {
   "cell_type": "markdown",
   "id": "9847b675-0569-4532-ac9d-da3373f5285a",
   "metadata": {},
   "source": [
    "## Test the Model with Dummy Data"
   ]
  },
  {
   "cell_type": "code",
   "execution_count": 5,
   "id": "4b81cb89-109f-4b06-91f8-21b362e4e716",
   "metadata": {},
   "outputs": [
    {
     "name": "stdout",
     "output_type": "stream",
     "text": [
      "✅ WRN-28-10 model created!\n",
      "Output shape: torch.Size([1, 10])\n"
     ]
    }
   ],
   "source": [
    "# Instantiating the model\n",
    "model = WideResNet(depth=28, widen_factor=10, num_classes=10)\n",
    "print(\"✅ WRN-28-10 model created!\")\n",
    "\n",
    "#  dummy input Test\n",
    "x = torch.randn(1, 3, 32, 32)  # CIFAR-10 image size\n",
    "y = model(x)\n",
    "print(f\"Output shape: {y.shape}\")  # Should be [1, 10]\n"
   ]
  },
  {
   "cell_type": "code",
   "execution_count": null,
   "id": "b14b3f94-aeae-40fb-9ece-6ad5a004748e",
   "metadata": {},
   "outputs": [],
   "source": []
  }
 ],
 "metadata": {
  "kernelspec": {
   "display_name": "Python 3 (ipykernel)",
   "language": "python",
   "name": "python3"
  },
  "language_info": {
   "codemirror_mode": {
    "name": "ipython",
    "version": 3
   },
   "file_extension": ".py",
   "mimetype": "text/x-python",
   "name": "python",
   "nbconvert_exporter": "python",
   "pygments_lexer": "ipython3",
   "version": "3.9.6"
  }
 },
 "nbformat": 4,
 "nbformat_minor": 5
}
